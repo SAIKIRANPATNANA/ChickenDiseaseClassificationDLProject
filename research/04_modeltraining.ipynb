{
 "cells": [
  {
   "cell_type": "code",
   "execution_count": 12,
   "metadata": {},
   "outputs": [],
   "source": [
    "import os"
   ]
  },
  {
   "cell_type": "code",
   "execution_count": 2,
   "metadata": {},
   "outputs": [
    {
     "data": {
      "text/plain": [
       "'/home/user/Documents/ML DL PROJECTS/ChickenDiseaseClassificationDLProject/research'"
      ]
     },
     "execution_count": 2,
     "metadata": {},
     "output_type": "execute_result"
    }
   ],
   "source": [
    "%pwd"
   ]
  },
  {
   "cell_type": "code",
   "execution_count": 3,
   "metadata": {},
   "outputs": [
    {
     "name": "stdout",
     "output_type": "stream",
     "text": [
      "/home/user/Documents/ML DL PROJECTS/ChickenDiseaseClassificationDLProject\n"
     ]
    }
   ],
   "source": [
    "%cd /home/user/Documents/ML DL PROJECTS/ChickenDiseaseClassificationDLProject/"
   ]
  },
  {
   "cell_type": "code",
   "execution_count": 4,
   "metadata": {},
   "outputs": [
    {
     "data": {
      "text/plain": [
       "'/home/user/Documents/ML DL PROJECTS/ChickenDiseaseClassificationDLProject'"
      ]
     },
     "execution_count": 4,
     "metadata": {},
     "output_type": "execute_result"
    }
   ],
   "source": [
    "%pwd"
   ]
  },
  {
   "cell_type": "code",
   "execution_count": 5,
   "metadata": {},
   "outputs": [],
   "source": [
    "from dataclasses import dataclass\n",
    "from  pathlib import Path \n",
    "@dataclass(frozen=True)\n",
    "class ModelTrainingConfig:\n",
    "    root_dir: Path\n",
    "    trained_model_path: Path \n",
    "    updated_base_model_path: Path \n",
    "    training_data: Path \n",
    "    params_epochs: int \n",
    "    params_batch_size: int \n",
    "    params_is_augmentation: bool\n",
    "    params_image_size: list"
   ]
  },
  {
   "cell_type": "code",
   "execution_count": 6,
   "metadata": {},
   "outputs": [],
   "source": [
    "@dataclass(frozen = True)\n",
    "class CallBacksPrepConfig:\n",
    "    root_dir: Path\n",
    "    tensorboard_root_log_dir: Path\n",
    "    checkpoint_model_filepath: Path"
   ]
  },
  {
   "cell_type": "code",
   "execution_count": 7,
   "metadata": {},
   "outputs": [],
   "source": [
    "from ChickenDiseaseClassification.constants import *\n",
    "from ChickenDiseaseClassification.utils.common import read_yaml,create_directories"
   ]
  },
  {
   "cell_type": "code",
   "execution_count": 8,
   "metadata": {},
   "outputs": [
    {
     "name": "stderr",
     "output_type": "stream",
     "text": [
      "2023-10-09 18:18:20.532191: I tensorflow/tsl/cuda/cudart_stub.cc:28] Could not find cuda drivers on your machine, GPU will not be used.\n",
      "2023-10-09 18:18:21.005441: I tensorflow/tsl/cuda/cudart_stub.cc:28] Could not find cuda drivers on your machine, GPU will not be used.\n",
      "2023-10-09 18:18:21.007942: I tensorflow/core/platform/cpu_feature_guard.cc:182] This TensorFlow binary is optimized to use available CPU instructions in performance-critical operations.\n",
      "To enable the following instructions: AVX2 FMA, in other operations, rebuild TensorFlow with the appropriate compiler flags.\n",
      "2023-10-09 18:18:22.487181: W tensorflow/compiler/tf2tensorrt/utils/py_utils.cc:38] TF-TRT Warning: Could not find TensorRT\n"
     ]
    }
   ],
   "source": [
    "import tensorflow as tf"
   ]
  },
  {
   "cell_type": "code",
   "execution_count": 30,
   "metadata": {},
   "outputs": [],
   "source": [
    "class ConfigurationManager:\n",
    "    def __init__(self, config_file_path=CONFIG_FILE_PATH,params_file_path=PARAMS_FILE_PATH):\n",
    "        self.config = read_yaml(config_file_path)\n",
    "        self.params = read_yaml(params_file_path)\n",
    "        create_directories([self.config.artifacts_root])\n",
    "    def GetCallBacksPrepConfig(self)->CallBacksPrepConfig:\n",
    "        config = self.config.callbacks_prep\n",
    "        model_ckpt_dir = os.path.dirname(config.checkpoint_model_filepath)\n",
    "        create_directories([Path(model_ckpt_dir),Path(config.tensorboard_root_log_dir)])\n",
    "        callback_prep_config = CallBacksPrepConfig(root_dir=Path(config.root_dir), tensorboard_root_log_dir=Path(config.tensorboard_root_log_dir), checkpoint_model_filepath=Path(config.checkpoint_model_filepath))\n",
    "        return callback_prep_config\n",
    "    def GetModelTrainingConfig(self)->ModelTrainingConfig:\n",
    "        model_training = self.config.model_training\n",
    "        base_model_prep = self.config.base_model_prep\n",
    "        params = self.params\n",
    "        training_data = os.path.join(self.config.data_ingestion.unzip_dir, \"Chicken-fecal-images\")\n",
    "        create_directories([Path(model_training.root_dir)])\n",
    "        model_training_config = ModelTrainingConfig(root_dir=Path(model_training.root_dir), trained_model_path=Path(model_training.trained_model_path),updated_base_model_path=Path(base_model_prep.updated_base_model_path),training_data=Path(training_data), params_epochs=params.EPOCHS, params_batch_size=params.BATCH_SIZE, params_is_augmentation=params.AUGMENTATION, params_image_size=params.IMAGE_SIZE)\n",
    "        return model_training_config\n",
    "\n"
   ]
  },
  {
   "cell_type": "code",
   "execution_count": 31,
   "metadata": {},
   "outputs": [],
   "source": [
    "import time"
   ]
  },
  {
   "cell_type": "code",
   "execution_count": 32,
   "metadata": {},
   "outputs": [],
   "source": [
    "class CallBacksPrep:\n",
    "    def __init__(self, config: CallBacksPrepConfig):\n",
    "        self.config = config\n",
    "    @property\n",
    "    def _create_tb_callbacks(self):\n",
    "        timestamp = time.strftime(\"%Y-%m-%d-%H-%M-%S\")\n",
    "        tb_running_log_dir = os.path.join(\n",
    "            self.config.tensorboard_root_log_dir,\n",
    "            f\"tb_logs_at_{timestamp}\",\n",
    "        )\n",
    "        return tf.keras.callbacks.TensorBoard(log_dir=tb_running_log_dir)\n",
    "    @property\n",
    "    def _create_ckpt_callbacks(self):\n",
    "        return tf.keras.callbacks.ModelCheckpoint(\n",
    "            filepath=str(self.config.checkpoint_model_filepath),\n",
    "            save_best_only=True\n",
    "        )\n",
    "    def get_tb_ckpt_callbacks(self):\n",
    "        return [\n",
    "            self._create_tb_callbacks,\n",
    "            self._create_ckpt_callbacks\n",
    "        ]"
   ]
  },
  {
   "cell_type": "code",
   "execution_count": 33,
   "metadata": {},
   "outputs": [],
   "source": [
    "import os\n",
    "import urllib.request as request\n",
    "from zipfile import ZipFile\n",
    "import tensorflow as tf\n",
    "import time"
   ]
  },
  {
   "cell_type": "code",
   "execution_count": 39,
   "metadata": {},
   "outputs": [],
   "source": [
    "class ModelTraining:\n",
    "    def __init__(self, config: ModelTrainingConfig):\n",
    "        self.config = config\n",
    "    def get_base_model(self):\n",
    "        self.model = tf.keras.models.load_model(\n",
    "            self.config.updated_base_model_path\n",
    "        )\n",
    "    def train_valid_generator(self):\n",
    "        datagenerator_kwargs = dict(\n",
    "            rescale = 1./255,\n",
    "            validation_split=0.20\n",
    "        )\n",
    "        dataflow_kwargs = dict(\n",
    "            target_size=self.config.params_image_size[:-1],\n",
    "            batch_size=self.config.params_batch_size,\n",
    "            interpolation=\"bilinear\"\n",
    "        )\n",
    "        valid_datagenerator = tf.keras.preprocessing.image.ImageDataGenerator(\n",
    "            **datagenerator_kwargs\n",
    "        )\n",
    "        self.valid_generator = valid_datagenerator.flow_from_directory(\n",
    "            directory=self.config.training_data,\n",
    "            subset=\"validation\",\n",
    "            shuffle=False,\n",
    "            **dataflow_kwargs\n",
    "        )\n",
    "        if self.config.params_is_augmentation:\n",
    "            train_datagenerator = tf.keras.preprocessing.image.ImageDataGenerator(\n",
    "                rotation_range=40,\n",
    "                horizontal_flip=True,\n",
    "                width_shift_range=0.2,\n",
    "                height_shift_range=0.2,\n",
    "                shear_range=0.2,\n",
    "                zoom_range=0.2,\n",
    "                        **datagenerator_kwargs\n",
    "            )\n",
    "        else:\n",
    "            train_datagenerator = valid_datagenerator\n",
    "        self.train_generator = train_datagenerator.flow_from_directory(\n",
    "            directory=self.config.training_data,\n",
    "            subset=\"training\",\n",
    "            shuffle=True,\n",
    "            **dataflow_kwargs\n",
    "        )\n",
    "    @staticmethod\n",
    "    def save_model(path: Path, model: tf.keras.Model):\n",
    "        model.save(path)\n",
    "    def train(self, callbacks_list: list):\n",
    "        self.steps_per_epoch = self.train_generator.samples // self.train_generator.batch_size\n",
    "        self.validation_steps = self.valid_generator.samples // self.valid_generator.batch_size\n",
    "        self.model.fit(\n",
    "            self.train_generator,\n",
    "            epochs=self.config.params_epochs,\n",
    "            steps_per_epoch=self.steps_per_epoch,\n",
    "            validation_steps=self.validation_steps,\n",
    "            validation_data=self.valid_generator,\n",
    "            callbacks=callbacks_list\n",
    "        )\n",
    "        self.save_model(\n",
    "            path=self.config.trained_model_path,\n",
    "            model=self.model\n",
    "        )"
   ]
  },
  {
   "cell_type": "code",
   "execution_count": 40,
   "metadata": {},
   "outputs": [
    {
     "name": "stdout",
     "output_type": "stream",
     "text": [
      "[2023-10-09 19:32:41,693: INFO: common yaml file: config/config.yaml loaded succuessfully]\n",
      "[2023-10-09 19:32:41,695: INFO: common yaml file: params.yaml loaded succuessfully]\n",
      "[2023-10-09 19:32:41,697: INFO: common directory at artifacts created succuessfully]\n",
      "[2023-10-09 19:32:41,699: INFO: common directory at artifacts/prepare_callbacks/checkpoint_dir created succuessfully]\n",
      "[2023-10-09 19:32:41,701: INFO: common directory at artifacts/prepare_callbacks/tensorboard_log_dir created succuessfully]\n",
      "[2023-10-09 19:32:41,703: INFO: common directory at artifacts/training created succuessfully]\n",
      "Found 78 images belonging to 2 classes.\n",
      "Found 312 images belonging to 2 classes.\n",
      "Epoch 1/10\n"
     ]
    },
    {
     "name": "stderr",
     "output_type": "stream",
     "text": [
      "2023-10-09 19:32:44.401905: W tensorflow/tsl/framework/cpu_allocator_impl.cc:83] Allocation of 19267584 exceeds 10% of free system memory.\n",
      "2023-10-09 19:32:44.416900: W tensorflow/tsl/framework/cpu_allocator_impl.cc:83] Allocation of 411041792 exceeds 10% of free system memory.\n",
      "2023-10-09 19:32:45.038224: W tensorflow/tsl/framework/cpu_allocator_impl.cc:83] Allocation of 411041792 exceeds 10% of free system memory.\n",
      "2023-10-09 19:32:45.414804: W tensorflow/tsl/framework/cpu_allocator_impl.cc:83] Allocation of 19267584 exceeds 10% of free system memory.\n",
      "2023-10-09 19:32:46.852962: W tensorflow/tsl/framework/cpu_allocator_impl.cc:83] Allocation of 19267584 exceeds 10% of free system memory.\n"
     ]
    },
    {
     "name": "stdout",
     "output_type": "stream",
     "text": [
      "9/9 [==============================] - ETA: 0s - loss: 13.6200 - accuracy: 0.4893 "
     ]
    },
    {
     "name": "stderr",
     "output_type": "stream",
     "text": [
      "/home/user/anaconda3/envs/chicken/lib/python3.8/site-packages/keras/src/engine/training.py:3000: UserWarning: You are saving your model as an HDF5 file via `model.save()`. This file format is considered legacy. We recommend using instead the native Keras format, e.g. `model.save('my_model.keras')`.\n",
      "  saving_api.save_model(\n"
     ]
    },
    {
     "name": "stdout",
     "output_type": "stream",
     "text": [
      "9/9 [==============================] - 173s 19s/step - loss: 13.6200 - accuracy: 0.4893 - val_loss: 9.0688 - val_accuracy: 0.3906\n",
      "Epoch 2/10\n",
      "9/9 [==============================] - 202s 23s/step - loss: 15.9462 - accuracy: 0.4643 - val_loss: 8.2863 - val_accuracy: 0.6094\n",
      "Epoch 3/10\n",
      "9/9 [==============================] - 179s 21s/step - loss: 8.5987 - accuracy: 0.5714 - val_loss: 6.0462 - val_accuracy: 0.4688\n",
      "Epoch 4/10\n",
      "9/9 [==============================] - 282s 34s/step - loss: 3.3262 - accuracy: 0.7179 - val_loss: 10.1136 - val_accuracy: 0.6094\n",
      "Epoch 5/10\n",
      "9/9 [==============================] - 365s 42s/step - loss: 4.9284 - accuracy: 0.7036 - val_loss: 0.8933 - val_accuracy: 0.8594\n",
      "Epoch 6/10\n",
      "9/9 [==============================] - 335s 38s/step - loss: 0.8292 - accuracy: 0.8929 - val_loss: 0.7089 - val_accuracy: 0.9219\n",
      "Epoch 7/10\n",
      "9/9 [==============================] - 313s 35s/step - loss: 2.5037 - accuracy: 0.7643 - val_loss: 1.2065 - val_accuracy: 0.8125\n",
      "Epoch 8/10\n",
      "9/9 [==============================] - 330s 37s/step - loss: 0.9021 - accuracy: 0.8679 - val_loss: 1.0166 - val_accuracy: 0.8281\n",
      "Epoch 9/10\n",
      "9/9 [==============================] - 268s 30s/step - loss: 0.6140 - accuracy: 0.9107 - val_loss: 1.1242 - val_accuracy: 0.8125\n",
      "Epoch 10/10\n",
      "9/9 [==============================] - 335s 39s/step - loss: 0.7629 - accuracy: 0.8929 - val_loss: 0.6696 - val_accuracy: 0.9219\n"
     ]
    }
   ],
   "source": [
    "try:\n",
    "    config = ConfigurationManager()\n",
    "    callbacks_prep_config = config.GetCallBacksPrepConfig()\n",
    "    callbacks_prep = CallBacksPrep(config=callbacks_prep_config)\n",
    "    callbacks_list = callbacks_prep.get_tb_ckpt_callbacks()\n",
    "    model_training_config = config.GetModelTrainingConfig()\n",
    "    model_training = ModelTraining(config=model_training_config)\n",
    "    model_training.get_base_model()\n",
    "    model_training.train_valid_generator()\n",
    "    model_training.train(callbacks_list=callbacks_list)\n",
    "except Exception as e:\n",
    "    raise e"
   ]
  },
  {
   "cell_type": "code",
   "execution_count": null,
   "metadata": {},
   "outputs": [],
   "source": []
  }
 ],
 "metadata": {
  "kernelspec": {
   "display_name": "chicken",
   "language": "python",
   "name": "python3"
  },
  "language_info": {
   "codemirror_mode": {
    "name": "ipython",
    "version": 3
   },
   "file_extension": ".py",
   "mimetype": "text/x-python",
   "name": "python",
   "nbconvert_exporter": "python",
   "pygments_lexer": "ipython3",
   "version": "3.8.18"
  }
 },
 "nbformat": 4,
 "nbformat_minor": 2
}
